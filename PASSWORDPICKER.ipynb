{
 "cells": [
  {
   "cell_type": "code",
   "execution_count": 1,
   "id": "4c6b3ed6",
   "metadata": {},
   "outputs": [
    {
     "name": "stdout",
     "output_type": "stream",
     "text": [
      "password attractiveknif0/\n"
     ]
    }
   ],
   "source": [
    "import random\n",
    "adjective=[\"attractive\",\"bald\",\"vlean\",\"drab\",\"fit\",\"kind\",\"nice\",\"proud\",\"silly\",\"polite\",\"angry\",\"helpless\"]\n",
    "noun=[\"car\",\"drink\",\"cat\",\"table\",\"iron\",\"lion\",\"leg\",\"desk\",\"knif\"]\n",
    "numbers=[\"1\",\"2\",\"3\",\"4\",\"5\",\"6\",\"7\",\"8\",\"9\",\"0\"]\n",
    "punctuation=[\"'\",\"()\",\",\",\".\",\"{}\",\"/\",\"&\",\"!\",\"?\"]\n",
    "adj=random.choice(adjective)\n",
    "noun=random.choice(noun)\n",
    "num=random.choice(numbers)\n",
    "punc=random.choice(punctuation)\n",
    "password=adj+noun+num+punc\n",
    "print(\"password:\",password)\n",
    "\n"
   ]
  },
  {
   "cell_type": "code",
   "execution_count": null,
   "id": "987702f1",
   "metadata": {},
   "outputs": [],
   "source": []
  }
 ],
 "metadata": {
  "kernelspec": {
   "display_name": "Python 3",
   "language": "python",
   "name": "python3"
  },
  "language_info": {
   "codemirror_mode": {
    "name": "ipython",
    "version": 3
   },
   "file_extension": ".py",
   "mimetype": "text/x-python",
   "name": "python",
   "nbconvert_exporter": "python",
   "pygments_lexer": "ipython3",
   "version": "3.8.8"
  }
 },
 "nbformat": 4,
 "nbformat_minor": 5
}
